{
  "nbformat": 4,
  "nbformat_minor": 0,
  "metadata": {
    "colab": {
      "name": "mnist_simple-2layers.ipynb",
      "provenance": [],
      "collapsed_sections": [],
      "authorship_tag": "ABX9TyPmSUXU2/4qju8fOSX/ioCk",
      "include_colab_link": true
    },
    "kernelspec": {
      "name": "python3",
      "display_name": "Python 3"
    },
    "accelerator": "GPU"
  },
  "cells": [
    {
      "cell_type": "markdown",
      "metadata": {
        "id": "view-in-github",
        "colab_type": "text"
      },
      "source": [
        "<a href=\"https://colab.research.google.com/github/mtbr39/discord_app/blob/master/ipynb/mnist_simple--2layers.ipynb\" target=\"_parent\"><img src=\"https://colab.research.google.com/assets/colab-badge.svg\" alt=\"Open In Colab\"/></a>"
      ]
    },
    {
      "cell_type": "code",
      "metadata": {
        "id": "UglnFVKQaXog",
        "outputId": "05c05f6c-7b82-433c-e01d-222d6a43dcf0",
        "colab": {
          "base_uri": "https://localhost:8080/",
          "height": 52
        }
      },
      "source": [
        "#mnistデータの読み込み\n",
        "import keras\n",
        "from keras.datasets import mnist\n",
        "\n",
        "(x_train, y_train), (x_test, y_test) = mnist.load_data()\n",
        "  #x_train:学習用画像 y_train:学習用ラベル x_test:検証用画像 y_test:検証用ラベル"
      ],
      "execution_count": null,
      "outputs": [
        {
          "output_type": "stream",
          "text": [
            "Downloading data from https://storage.googleapis.com/tensorflow/tf-keras-datasets/mnist.npz\n",
            "11493376/11490434 [==============================] - 1s 0us/step\n"
          ],
          "name": "stdout"
        }
      ]
    },
    {
      "cell_type": "code",
      "metadata": {
        "id": "2ovRjC1ItZfe"
      },
      "source": [
        "#データの前処理\n",
        "from keras.utils.np_utils import to_categorical\n",
        "\n",
        "#画像を一次元化\n",
        "x_train = x_train.reshape(60000, 784)   #28*28=784:mnist画像のサイズ\n",
        "x_test = x_test.reshape(10000, 784)\n",
        "\n",
        "#画素を0~1の範囲に変換(正規化)\n",
        "x_train = x_train.astype('float32') / 255\n",
        "x_test = x_test.astype('float32') / 255\n",
        "\n",
        "# 正解ラベルをone-hot-encodeing\n",
        "y_train = to_categorical(y_train, 10)   #One Hot Encording:学習しやすいようカテゴリ値を01で表現すること\n",
        "y_test = to_categorical(y_test, 10)"
      ],
      "execution_count": null,
      "outputs": []
    },
    {
      "cell_type": "code",
      "metadata": {
        "id": "9DTsQKSNF2YQ"
      },
      "source": [
        "#モデルを構築\n",
        "from keras.models import Sequential\n",
        "from keras.layers import Dense\n",
        "\n",
        "model = Sequential()\n",
        "model.add(Dense(64, activation='relu', input_dim=784))  #活性化関数：ReLU関数\n",
        "model.add(Dense(10, activation='softmax'))              #活性化関数：softmax関数\n",
        "\n",
        "model.compile(optimizer='rmsprop',              #optimizer: 最適化手法\n",
        "              loss='categorical_crossentropy',  #loss:      損失関数\n",
        "              metrics=['accuracy'])             #metrics:   評価関数"
      ],
      "execution_count": null,
      "outputs": []
    },
    {
      "cell_type": "code",
      "metadata": {
        "id": "NRLEl9eo6LXo",
        "outputId": "4903690d-c404-43dd-9382-4ba2c4c86c7f",
        "colab": {
          "base_uri": "https://localhost:8080/",
          "height": 439
        }
      },
      "source": [
        "#モデルにデータを学習させる\n",
        "import matplotlib.pyplot as plt\n",
        "\n",
        "history = model.fit(x_train, y_train,\n",
        "            batch_size=100,   #勾配更新ごとのサンプル数\n",
        "            epochs=12,        #訓練データ配列の反復回数\n",
        "            verbose=1)        #進行状況の表示モード"
      ],
      "execution_count": null,
      "outputs": [
        {
          "output_type": "stream",
          "text": [
            "Epoch 1/12\n",
            "600/600 [==============================] - 2s 3ms/step - loss: 0.3608 - accuracy: 0.9025\n",
            "Epoch 2/12\n",
            "600/600 [==============================] - 2s 3ms/step - loss: 0.1849 - accuracy: 0.9469\n",
            "Epoch 3/12\n",
            "600/600 [==============================] - 2s 3ms/step - loss: 0.1386 - accuracy: 0.9602\n",
            "Epoch 4/12\n",
            "600/600 [==============================] - 2s 3ms/step - loss: 0.1121 - accuracy: 0.9669\n",
            "Epoch 5/12\n",
            "600/600 [==============================] - 2s 3ms/step - loss: 0.0949 - accuracy: 0.9722\n",
            "Epoch 6/12\n",
            "600/600 [==============================] - 2s 3ms/step - loss: 0.0827 - accuracy: 0.9761\n",
            "Epoch 7/12\n",
            "600/600 [==============================] - 2s 3ms/step - loss: 0.0728 - accuracy: 0.9790\n",
            "Epoch 8/12\n",
            "600/600 [==============================] - 2s 3ms/step - loss: 0.0649 - accuracy: 0.9808\n",
            "Epoch 9/12\n",
            "600/600 [==============================] - 2s 3ms/step - loss: 0.0587 - accuracy: 0.9833\n",
            "Epoch 10/12\n",
            "600/600 [==============================] - 2s 3ms/step - loss: 0.0535 - accuracy: 0.9848\n",
            "Epoch 11/12\n",
            "600/600 [==============================] - 2s 3ms/step - loss: 0.0494 - accuracy: 0.9859\n",
            "Epoch 12/12\n",
            "600/600 [==============================] - 2s 3ms/step - loss: 0.0461 - accuracy: 0.9870\n"
          ],
          "name": "stdout"
        }
      ]
    },
    {
      "cell_type": "code",
      "metadata": {
        "id": "89vDnF9Ph-L9",
        "outputId": "12830cd3-9a36-4dd2-a79b-9883216139f2",
        "colab": {
          "base_uri": "https://localhost:8080/",
          "height": 573
        }
      },
      "source": [
        "#学習の履歴の可視化\n",
        "\n",
        "# Plot training & validation accuracy values\n",
        "plt.plot(history.history['accuracy'])\n",
        "##plt.plot(history.history['val_accuracy'])   #バリデーションデータ:学習の経過を見るのに使われる\n",
        "plt.title('Model accuracy')\n",
        "plt.ylabel('Accuracy')\n",
        "plt.xlabel('Epoch')\n",
        "plt.legend(['Train', 'Test'], loc='upper left')\n",
        "plt.show()\n",
        "\n",
        "# Plot training & validation loss values\n",
        "plt.plot(history.history['loss'])\n",
        "##plt.plot(history.history['val_loss'])\n",
        "plt.title('Model loss')\n",
        "plt.ylabel('Loss')\n",
        "plt.xlabel('Epoch')\n",
        "plt.legend(['Train', 'Test'], loc='upper left')\n",
        "plt.show()"
      ],
      "execution_count": null,
      "outputs": [
        {
          "output_type": "display_data",
          "data": {
            "image/png": "[encoded data removed]",
            "text/plain": [
              "<Figure size 432x288 with 1 Axes>"
            ]
          },
          "metadata": {
            "tags": [],
            "needs_background": "light"
          }
        },
        {
          "output_type": "display_data",
          "data": {
            "image/png": "[encoded data removed]",
            "text/plain": [
              "<Figure size 432x288 with 1 Axes>"
            ]
          },
          "metadata": {
            "tags": [],
            "needs_background": "light"
          }
        }
      ]
    },
    {
      "cell_type": "code",
      "metadata": {
        "id": "QfZQSQbq7n9V",
        "outputId": "d3c44e3f-1dca-407a-a1f4-55cbdb2ee297",
        "colab": {
          "base_uri": "https://localhost:8080/",
          "height": 70
        }
      },
      "source": [
        "#モデルを評価する\n",
        "score = model.evaluate(x_test, y_test)\n",
        "print(score[0])\n",
        "print(score[1])"
      ],
      "execution_count": null,
      "outputs": [
        {
          "output_type": "stream",
          "text": [
            "313/313 [==============================] - 1s 3ms/step - loss: 0.0835 - accuracy: 0.9764\n",
            "0.08351444453001022\n",
            "0.9764000177383423\n"
          ],
          "name": "stdout"
        }
      ]
    }
  ]
}